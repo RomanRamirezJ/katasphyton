{
 "cells": [
  {
   "cell_type": "markdown",
   "metadata": {},
   "source": [
    "## Ejercicio - Crear un paquete\n",
    "En este ejercicio, aprenderás a utilizar entornos virtuales como una forma para no afectar a los paquetes instalados globalmente u otros programas que se ejecutan en tu máquina.\n",
    "\n",
    "Para este ejercicio es necesario que lo ejecutes desde la terminal, línea de comandos, cmd, consola, cli, etc. de tu computadora, sé que es desafíante, pero no te preocupes ¡¡Sé que puedes lograrlo!!"
   ]
  },
  {
   "cell_type": "markdown",
   "metadata": {},
   "source": [
    "## Crear un entorno virtual\n",
    "Crea un entorno virtual mediante `venv`\n",
    "* Ejecutar en su terminal: `python3 -m venv env` o bien `python -m venv env`\n"
   ]
  },
  {
   "cell_type": "code",
   "execution_count": null,
   "metadata": {},
   "outputs": [],
   "source": [
    "python3 -m venv env "
   ]
  },
  {
   "cell_type": "markdown",
   "metadata": {},
   "source": [
    "`python -m venv env` Ahora tienes un directorio (folder) `env` creado en tu terminal.\n",
    "*Ejecuta el comando para activar el entorno virtual: source env/bin/activate"
   ]
  },
  {
   "cell_type": "markdown",
   "metadata": {},
   "source": [
    " ```\n",
    "    source env/bin/activate\n",
    "    # Windows\n",
    "    env\\bin\\activate\n",
    "    \n",
    "    o bien: \n",
    "    env\\Scripts\\activate\n",
    "    # Linux, WSL or macOS\n",
    "    source env/bin/activate\n",
    "```\n",
    "\n",
    "Ahora ves en tu terminal (env). Eso significa que has activado tu entorno virtual y se ha aislado del resto de tu máquina.\n",
    "\n",
    "![crearentorno](../imagenes/crearentorno.png)\n",
    "\n"
   ]
  },
  {
   "cell_type": "markdown",
   "metadata": {},
   "source": [
    "## Instalar una biblioteca\n",
    "\n",
    "Ahora que estás dentro de tu entorno virtual, puedes instalar una biblioteca y saber que la biblioteca solo existirá en el entorno virtual.\n",
    "\n",
    "* Ejecuta el comando pip freeze para ver las bibliotecas instaladas en tu entorno:\n",
    "```\n",
    "    pip freeze\n",
    "```\n",
    "No deberías obtener respuesta. A continuación, veamos cómo cambia la salida de `pip freeze` cuando se agrega una biblioteca (un paquete).\n",
    "\n",
    "* Ejecuta el comando `pip install` para instalar una biblioteca:\n",
    "```\n",
    "    pip install python-dateutil \n",
    "```\n",
    "\n",
    "* Un gran mensaje de salida de texto dice que está instalando tu biblioteca, y debe terminar con la siguiente oración:\n",
    "```\n",
    "    Successfully installed python-dateutil-2.8.2 six-1.16.0\n",
    "```\n",
    "\n",
    "* Vuelve a ejecutar pip freeze para ver cómo ha cambiado tu lista de bibliotecas:\n",
    "```\n",
    "    pip freeze\n",
    "```\n",
    "* Ahora deberías ver la siguiente lista:\n",
    "```\n",
    "    python-dateutil==2.8.2\n",
    "    six==1.16.0\n",
    "```\n",
    "\n",
    "![instalarpaquete](../imagenes/instalarpaquete.png)"
   ]
  },
  {
   "cell_type": "markdown",
   "metadata": {},
   "source": [
    "## Desactivar un entorno virtual\n",
    "\n",
    "Hasta ahora, has creado un entorno virtual y le has agregado un paquete. Sin embargo, es posible que estés trabajando en varios proyectos de Python y necesites cambiar entre ellos. Para hacer eso, debes salir (desactivar) tu entorno virtual.\n",
    "\n",
    "Ejecuta el comando `deactivate`:\n",
    "```\n",
    "    deactivate\n",
    "```\n",
    "Observa cómo cambia el mensaje de tu terminal `(env)` a cómo se veía antes.\n",
    "\n",
    "![deactivate](../imagenes/deactivate.png)"
   ]
  }
 ],
 "metadata": {
  "interpreter": {
   "hash": "2be5faf79681da6f2a61fdfdd5405d65d042280f7fba6178067603e3a2925119"
  },
  "kernelspec": {
   "display_name": "Python 3.10.0 64-bit",
   "language": "python",
   "name": "python3"
  },
  "language_info": {
   "name": "python",
   "version": "3.10.0"
  },
  "orig_nbformat": 4
 },
 "nbformat": 4,
 "nbformat_minor": 2
}
