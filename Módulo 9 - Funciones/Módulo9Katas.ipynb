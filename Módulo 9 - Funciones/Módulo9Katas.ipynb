{
 "cells": [
  {
   "cell_type": "markdown",
   "metadata": {},
   "source": [
    "\n",
    "## Ejercicio: Uso de funciones en Python\n",
    "### Ejercicio 1: Trabajar con argumentos en funciones\n",
    "\n",
    "Los argumentos requeridos en las funciones se utilizan cuando las funciones necesitan que esos argumentos funcionen correctamente. En este ejercicio, construirás un informe de combustible que requiere información de varias ubicaciones de combustible en todo el cohete.\n",
    "\n",
    "Comienza por crear una función que necesite tres lecturas de combustible y devuelva un informe:\n",
    "\n",
    "Ahora que hemos definido la función de informes, vamos a comprobarlo. Para esta misión, los tanques no están llenos:\n",
    "\n",
    "En lugar de simplemente crear el informe, la función también está calculando el promedio. Mejora la legibilidad extrayendo el cálculo promedio de la función en una nueva función para que el promedio se pueda hacer de forma independiente:\n",
    "\n",
    "Ahora actualiza la función de informes para llamando a la nueva función del promedio:\n"
   ]
  },
  {
   "cell_type": "code",
   "execution_count": 4,
   "metadata": {},
   "outputs": [
    {
     "name": "stdout",
     "output_type": "stream",
     "text": [
      "\n",
      "    Reporte de combustible:\n",
      "    promedio: 208.0%\n",
      "    Tanque 1: 80%\n",
      "    Tanque 2: 37%\n",
      "    Tanque 3: 91% \n",
      "    \n"
     ]
    }
   ],
   "source": [
    "# Función para leer 3 tanques de combustible y muestre el promedio\n",
    "\n",
    "def generarInforme(tanque1, tanque2, tanque3):\n",
    "    promedio = (tanque1 + tanque2 + tanque3) / 3\n",
    "    return f\"\"\"\n",
    "    Report de combustible:\n",
    "    Promedio: {promedio}%\n",
    "    Tanque 1: {tanque1}%\n",
    "    Tanque 2: {tanque2}%\n",
    "    Tanque 3: {tanque3}% \n",
    "    \"\"\"\n",
    "\n",
    "# Llamamos a la función que genera el reporte print(funcion(tanque1, tanque2, tanque3))\n",
    "generarInforme(100,50,20)\n",
    "\n",
    "# Función promedio \n",
    "def promedio(valor):\n",
    "    total = sum(valor)\n",
    "    longitudValor = len(valor)\n",
    "    return total / longitudValor\n",
    "\n",
    "# Test the averaging function with a list of integers:\n",
    "promedio([70, 45, 21]) \n",
    "\n",
    "# Actualiza la función\n",
    "def generarInforme(tanque1, tanque2, tanque3):\n",
    "    return f\"\"\"\n",
    "    Reporte de combustible:\n",
    "    promedio: {promedio([tanque1 + tanque2 + tanque3])}%\n",
    "    Tanque 1: {tanque1}%\n",
    "    Tanque 2: {tanque2}%\n",
    "    Tanque 3: {tanque3}% \n",
    "    \"\"\"\n",
    "\n",
    "print(generarInforme(80, 37, 91))\n"
   ]
  },
  {
   "cell_type": "markdown",
   "metadata": {},
   "source": [
    "\n",
    "## Ejercicio 2: Trabajo con argumentos de palabra clave\n",
    "### Ejercicio : Trabajar con argumentos de palabras clave en funciones\n",
    "\n",
    "En este ejercicio, construirás un informe de cohete que requiere varias piezas de información, como el tiempo hasta el destino, el combustible a la izquierda y el nombre del destino. Comienza por crear una función que creará un informe preciso de la misión:\n",
    "\n",
    "La función es problemática porque no se puede adaptar para minutos adicionales o tanques adicionales de combustible. Hazlo más flexible permitiendo cualquier número de pasos basados en el tiempo y cualquier número de tanques. En lugar de usar `*args` y `**kwargs`, aprovecha el hecho de que puedes usar cualquier nombre que desees. Asegurate que la función sea más legible mediante el uso de nombres de variables que están asociados con las entradas, como `*minutes` y `**fuel_reservoirs`:\n",
    "\n",
    "Debido a que el combustible que queda en los tanques es específico de cada tanque, actualiza la función para usar el nombre de cada tanque en el informe:\n"
   ]
  },
  {
   "cell_type": "code",
   "execution_count": 12,
   "metadata": {},
   "outputs": [
    {
     "name": "stdout",
     "output_type": "stream",
     "text": [
      "\n",
      "    Mision a marte\n",
      "    Tiempo Total de viaje: 42 minutos\n",
      "    Combustible restante: 4100 litros\n",
      "    \n",
      "\n",
      "    Mision a Marte\n",
      "    Total tiempo de viaje: 97 minutos\n",
      "    Total fuel restante: 4100\n",
      "    \n",
      "\n",
      "    Mision a Marte\n",
      "    Total tiempo de viaje: 97 minutos\n",
      "    Total fuel restante: 4100\n",
      "    tanqueInterno tanque: 4000 litros\n",
      "    tanqueExterno tanque: 100 litros\n",
      "    \n"
     ]
    }
   ],
   "source": [
    "# Función con un informe preciso de la misión. Considera hora de prelanzamiento, tiempo de vuelo, destino, tanque externo y tanque interno\n",
    "def reporteMision(prelanzamiento, tiempoVuelo, destino, tanqueExterno, tanqueInterno):\n",
    "    return f\"\"\"\n",
    "    Mision a {destino}\n",
    "    Tiempo Total de viaje: {prelanzamiento + tiempoVuelo} minutos\n",
    "    Combustible restante: {tanqueExterno + tanqueInterno} litros\n",
    "    \"\"\"\n",
    "\n",
    "print(reporteMision(19, 23, \"marte\", 4000, 100))\n",
    "\n",
    "# Escribe tu nueva función de reporte considerando lo anterior\n",
    "def reporteMision(destino, *minutes, **fuel_reservoirs):\n",
    "    return f\"\"\"\n",
    "    Mision a {destino}\n",
    "    Total tiempo de viaje: {sum(minutes)} minutos\n",
    "    Total fuel restante: {sum(fuel_reservoirs.values())}\n",
    "    \"\"\"\n",
    "\n",
    "print(reporteMision(\"Marte\", 8, 14, 75, tanqueInterno=4000, tanqueExterno=100))\n",
    "\n",
    "# Escribe tu nueva función\n",
    "\n",
    "def reporteMision(destino, *minutes, **fuel_reservoirs):\n",
    "    reporte = f\"\"\"\n",
    "    Mision a {destino}\n",
    "    Total tiempo de viaje: {sum(minutes)} minutos\n",
    "    Total fuel restante: {sum(fuel_reservoirs.values())}\n",
    "    \"\"\"\n",
    "    for Nombretanque, cantidad in fuel_reservoirs.items():\n",
    "        reporte += f\"{Nombretanque} tanque: {cantidad} litros\\n    \"\n",
    "    return reporte\n",
    "\n",
    "print(reporteMision(\"Marte\", 8, 14, 75, tanqueInterno=4000, tanqueExterno=100))\n",
    "\n",
    "\n",
    "\n"
   ]
  }
 ],
 "metadata": {
  "interpreter": {
   "hash": "2be5faf79681da6f2a61fdfdd5405d65d042280f7fba6178067603e3a2925119"
  },
  "kernelspec": {
   "display_name": "Python 3.10.0 64-bit",
   "language": "python",
   "name": "python3"
  },
  "language_info": {
   "codemirror_mode": {
    "name": "ipython",
    "version": 3
   },
   "file_extension": ".py",
   "mimetype": "text/x-python",
   "name": "python",
   "nbconvert_exporter": "python",
   "pygments_lexer": "ipython3",
   "version": "3.10.0"
  },
  "orig_nbformat": 4
 },
 "nbformat": 4,
 "nbformat_minor": 2
}
